{
 "cells": [
  {
   "cell_type": "code",
   "execution_count": 28,
   "metadata": {},
   "outputs": [],
   "source": [
    "import pandas as pd\n",
    "from shapely import wkt\n",
    "from shapely.geometry import Polygon, MultiPolygon\n",
    "import h3"
   ]
  },
  {
   "cell_type": "code",
   "execution_count": 10,
   "metadata": {},
   "outputs": [
    {
     "name": "stdout",
     "output_type": "stream",
     "text": [
      "(109066, 5)\n"
     ]
    },
    {
     "data": {
      "text/html": [
       "<div>\n",
       "<style scoped>\n",
       "    .dataframe tbody tr th:only-of-type {\n",
       "        vertical-align: middle;\n",
       "    }\n",
       "\n",
       "    .dataframe tbody tr th {\n",
       "        vertical-align: top;\n",
       "    }\n",
       "\n",
       "    .dataframe thead th {\n",
       "        text-align: right;\n",
       "    }\n",
       "</style>\n",
       "<table border=\"1\" class=\"dataframe\">\n",
       "  <thead>\n",
       "    <tr style=\"text-align: right;\">\n",
       "      <th></th>\n",
       "      <th>disaster_type</th>\n",
       "      <th>disaster</th>\n",
       "      <th>id</th>\n",
       "      <th>map_polygon</th>\n",
       "      <th>damage</th>\n",
       "    </tr>\n",
       "  </thead>\n",
       "  <tbody>\n",
       "    <tr>\n",
       "      <th>0</th>\n",
       "      <td>flooding</td>\n",
       "      <td>hurricane-florence</td>\n",
       "      <td>MjU0NjYxOA.oDPPzoZ4qHe2KBGmwerMXsQbF9I</td>\n",
       "      <td>POLYGON ((-79.05237408501472 33.58644838741007...</td>\n",
       "      <td>no-damage</td>\n",
       "    </tr>\n",
       "    <tr>\n",
       "      <th>1</th>\n",
       "      <td>flooding</td>\n",
       "      <td>hurricane-florence</td>\n",
       "      <td>MjU0NjYxOA.oDPPzoZ4qHe2KBGmwerMXsQbF9I</td>\n",
       "      <td>POLYGON ((-79.05057793741786 33.58642007435035...</td>\n",
       "      <td>no-damage</td>\n",
       "    </tr>\n",
       "    <tr>\n",
       "      <th>2</th>\n",
       "      <td>flooding</td>\n",
       "      <td>hurricane-florence</td>\n",
       "      <td>MjU0NjYxOA.oDPPzoZ4qHe2KBGmwerMXsQbF9I</td>\n",
       "      <td>POLYGON ((-79.05032036154907 33.58601889360698...</td>\n",
       "      <td>no-damage</td>\n",
       "    </tr>\n",
       "    <tr>\n",
       "      <th>3</th>\n",
       "      <td>flooding</td>\n",
       "      <td>hurricane-florence</td>\n",
       "      <td>MjU0NjYxOA.oDPPzoZ4qHe2KBGmwerMXsQbF9I</td>\n",
       "      <td>POLYGON ((-79.04964714990703 33.58640540214724...</td>\n",
       "      <td>no-damage</td>\n",
       "    </tr>\n",
       "    <tr>\n",
       "      <th>4</th>\n",
       "      <td>flooding</td>\n",
       "      <td>hurricane-florence</td>\n",
       "      <td>MjU0NjYxOA.oDPPzoZ4qHe2KBGmwerMXsQbF9I</td>\n",
       "      <td>POLYGON ((-79.04905688085425 33.58639609760957...</td>\n",
       "      <td>no-damage</td>\n",
       "    </tr>\n",
       "  </tbody>\n",
       "</table>\n",
       "</div>"
      ],
      "text/plain": [
       "  disaster_type            disaster                                      id  \\\n",
       "0      flooding  hurricane-florence  MjU0NjYxOA.oDPPzoZ4qHe2KBGmwerMXsQbF9I   \n",
       "1      flooding  hurricane-florence  MjU0NjYxOA.oDPPzoZ4qHe2KBGmwerMXsQbF9I   \n",
       "2      flooding  hurricane-florence  MjU0NjYxOA.oDPPzoZ4qHe2KBGmwerMXsQbF9I   \n",
       "3      flooding  hurricane-florence  MjU0NjYxOA.oDPPzoZ4qHe2KBGmwerMXsQbF9I   \n",
       "4      flooding  hurricane-florence  MjU0NjYxOA.oDPPzoZ4qHe2KBGmwerMXsQbF9I   \n",
       "\n",
       "                                         map_polygon     damage  \n",
       "0  POLYGON ((-79.05237408501472 33.58644838741007...  no-damage  \n",
       "1  POLYGON ((-79.05057793741786 33.58642007435035...  no-damage  \n",
       "2  POLYGON ((-79.05032036154907 33.58601889360698...  no-damage  \n",
       "3  POLYGON ((-79.04964714990703 33.58640540214724...  no-damage  \n",
       "4  POLYGON ((-79.04905688085425 33.58639609760957...  no-damage  "
      ]
     },
     "execution_count": 10,
     "metadata": {},
     "output_type": "execute_result"
    }
   ],
   "source": [
    "df: pd.DataFrame = pd.read_parquet(\"../files/buildings.parquet.gz\")\n",
    "\n",
    "print(df.shape)\n",
    "df.head()"
   ]
  },
  {
   "cell_type": "code",
   "execution_count": 11,
   "metadata": {},
   "outputs": [
    {
     "name": "stdout",
     "output_type": "stream",
     "text": [
      "(916266, 5)\n"
     ]
    },
    {
     "data": {
      "text/html": [
       "<div>\n",
       "<style scoped>\n",
       "    .dataframe tbody tr th:only-of-type {\n",
       "        vertical-align: middle;\n",
       "    }\n",
       "\n",
       "    .dataframe tbody tr th {\n",
       "        vertical-align: top;\n",
       "    }\n",
       "\n",
       "    .dataframe thead th {\n",
       "        text-align: right;\n",
       "    }\n",
       "</style>\n",
       "<table border=\"1\" class=\"dataframe\">\n",
       "  <thead>\n",
       "    <tr style=\"text-align: right;\">\n",
       "      <th></th>\n",
       "      <th>h3_cell_8</th>\n",
       "      <th>sum_population</th>\n",
       "      <th>avg_food</th>\n",
       "      <th>sum_gdp</th>\n",
       "      <th>gdp_per_capita</th>\n",
       "    </tr>\n",
       "  </thead>\n",
       "  <tbody>\n",
       "    <tr>\n",
       "      <th>0</th>\n",
       "      <td>8826490093fffff</td>\n",
       "      <td>5.0</td>\n",
       "      <td>NaN</td>\n",
       "      <td>458617.030</td>\n",
       "      <td>91723.406000</td>\n",
       "    </tr>\n",
       "    <tr>\n",
       "      <th>1</th>\n",
       "      <td>8826490095fffff</td>\n",
       "      <td>2.0</td>\n",
       "      <td>NaN</td>\n",
       "      <td>NaN</td>\n",
       "      <td>NaN</td>\n",
       "    </tr>\n",
       "    <tr>\n",
       "      <th>2</th>\n",
       "      <td>8826490097fffff</td>\n",
       "      <td>15.0</td>\n",
       "      <td>NaN</td>\n",
       "      <td>108257.973</td>\n",
       "      <td>7217.198200</td>\n",
       "    </tr>\n",
       "    <tr>\n",
       "      <th>3</th>\n",
       "      <td>8826490099fffff</td>\n",
       "      <td>105.0</td>\n",
       "      <td>NaN</td>\n",
       "      <td>84240.760</td>\n",
       "      <td>802.292952</td>\n",
       "    </tr>\n",
       "    <tr>\n",
       "      <th>4</th>\n",
       "      <td>88264900a7fffff</td>\n",
       "      <td>3.0</td>\n",
       "      <td>NaN</td>\n",
       "      <td>67860.240</td>\n",
       "      <td>22620.080000</td>\n",
       "    </tr>\n",
       "  </tbody>\n",
       "</table>\n",
       "</div>"
      ],
      "text/plain": [
       "         h3_cell_8  sum_population  avg_food     sum_gdp  gdp_per_capita\n",
       "0  8826490093fffff             5.0       NaN  458617.030    91723.406000\n",
       "1  8826490095fffff             2.0       NaN         NaN             NaN\n",
       "2  8826490097fffff            15.0       NaN  108257.973     7217.198200\n",
       "3  8826490099fffff           105.0       NaN   84240.760      802.292952\n",
       "4  88264900a7fffff             3.0       NaN   67860.240    22620.080000"
      ]
     },
     "execution_count": 11,
     "metadata": {},
     "output_type": "execute_result"
    }
   ],
   "source": [
    "h3_df_8: pd.DataFrame = pd.read_csv(\"../files/merged_df_h3_cell_8.csv\")\n",
    "\n",
    "print(h3_df_8.shape)\n",
    "h3_df_8.head()"
   ]
  },
  {
   "cell_type": "code",
   "execution_count": 16,
   "metadata": {},
   "outputs": [],
   "source": [
    "df[\"map_polygon_shape\"] = df[\"map_polygon\"].apply(wkt.loads)"
   ]
  },
  {
   "cell_type": "code",
   "execution_count": 56,
   "metadata": {},
   "outputs": [],
   "source": [
    "df['h3_8_id'] = df['map_polygon_shape'].dropna().apply(lambda cell: h3.geo_to_h3(cell.centroid.y, cell.centroid.x, 8))"
   ]
  },
  {
   "cell_type": "code",
   "execution_count": null,
   "metadata": {},
   "outputs": [],
   "source": [
    "h3_ids_with_neighbours: list[str] = list(df['h3_8_id'].dropna().apply(lambda cell: h3.k_ring(cell, 3)).explode().unique())\n",
    "print(len(h3_ids_with_neighbours))"
   ]
  },
  {
   "cell_type": "code",
   "execution_count": 65,
   "metadata": {},
   "outputs": [
    {
     "name": "stdout",
     "output_type": "stream",
     "text": [
      "(3409, 5)\n"
     ]
    },
    {
     "data": {
      "text/html": [
       "<div>\n",
       "<style scoped>\n",
       "    .dataframe tbody tr th:only-of-type {\n",
       "        vertical-align: middle;\n",
       "    }\n",
       "\n",
       "    .dataframe tbody tr th {\n",
       "        vertical-align: top;\n",
       "    }\n",
       "\n",
       "    .dataframe thead th {\n",
       "        text-align: right;\n",
       "    }\n",
       "</style>\n",
       "<table border=\"1\" class=\"dataframe\">\n",
       "  <thead>\n",
       "    <tr style=\"text-align: right;\">\n",
       "      <th></th>\n",
       "      <th>h3_cell_8</th>\n",
       "      <th>sum_population</th>\n",
       "      <th>avg_food</th>\n",
       "      <th>sum_gdp</th>\n",
       "      <th>gdp_per_capita</th>\n",
       "    </tr>\n",
       "  </thead>\n",
       "  <tbody>\n",
       "    <tr>\n",
       "      <th>0</th>\n",
       "      <td>882ad01003fffff</td>\n",
       "      <td>9.0</td>\n",
       "      <td>NaN</td>\n",
       "      <td>14853.2790</td>\n",
       "      <td>1650.364333</td>\n",
       "    </tr>\n",
       "    <tr>\n",
       "      <th>1</th>\n",
       "      <td>882ad0100dfffff</td>\n",
       "      <td>26.0</td>\n",
       "      <td>NaN</td>\n",
       "      <td>4037.5083</td>\n",
       "      <td>155.288781</td>\n",
       "    </tr>\n",
       "    <tr>\n",
       "      <th>2</th>\n",
       "      <td>882ad0101bfffff</td>\n",
       "      <td>139.0</td>\n",
       "      <td>NaN</td>\n",
       "      <td>11148.0330</td>\n",
       "      <td>80.201676</td>\n",
       "    </tr>\n",
       "    <tr>\n",
       "      <th>3</th>\n",
       "      <td>882ad01021fffff</td>\n",
       "      <td>60.0</td>\n",
       "      <td>NaN</td>\n",
       "      <td>8387.8500</td>\n",
       "      <td>139.797500</td>\n",
       "    </tr>\n",
       "    <tr>\n",
       "      <th>4</th>\n",
       "      <td>882ad0102bfffff</td>\n",
       "      <td>27.0</td>\n",
       "      <td>NaN</td>\n",
       "      <td>NaN</td>\n",
       "      <td>NaN</td>\n",
       "    </tr>\n",
       "  </tbody>\n",
       "</table>\n",
       "</div>"
      ],
      "text/plain": [
       "         h3_cell_8  sum_population  avg_food     sum_gdp  gdp_per_capita\n",
       "0  882ad01003fffff             9.0       NaN  14853.2790     1650.364333\n",
       "1  882ad0100dfffff            26.0       NaN   4037.5083      155.288781\n",
       "2  882ad0101bfffff           139.0       NaN  11148.0330       80.201676\n",
       "3  882ad01021fffff            60.0       NaN   8387.8500      139.797500\n",
       "4  882ad0102bfffff            27.0       NaN         NaN             NaN"
      ]
     },
     "execution_count": 65,
     "metadata": {},
     "output_type": "execute_result"
    }
   ],
   "source": [
    "filtered_h3_8_ids: pd.DataFrame = h3_df_8[h3_df_8['h3_cell_8'].isin(h3_ids_with_neighbours)].reset_index(drop=True)\n",
    "print(filtered_h3_8_ids.shape)\n",
    "filtered_h3_8_ids.head()"
   ]
  },
  {
   "cell_type": "code",
   "execution_count": 68,
   "metadata": {},
   "outputs": [],
   "source": [
    "filtered_h3_8_ids.to_parquet(\"../files/hurricanes_h3_8.parquet.gz\", index=False, compression=\"gzip\")"
   ]
  },
  {
   "cell_type": "code",
   "execution_count": null,
   "metadata": {},
   "outputs": [],
   "source": []
  }
 ],
 "metadata": {
  "kernelspec": {
   "display_name": "alivio",
   "language": "python",
   "name": "python3"
  },
  "language_info": {
   "codemirror_mode": {
    "name": "ipython",
    "version": 3
   },
   "file_extension": ".py",
   "mimetype": "text/x-python",
   "name": "python",
   "nbconvert_exporter": "python",
   "pygments_lexer": "ipython3",
   "version": "3.10.14"
  }
 },
 "nbformat": 4,
 "nbformat_minor": 2
}
