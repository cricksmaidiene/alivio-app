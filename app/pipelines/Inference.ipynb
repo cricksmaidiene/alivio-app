{
 "cells": [
  {
   "cell_type": "code",
   "execution_count": 1,
   "id": "b263eaa2-8daf-439d-841a-eef9fd2d5472",
   "metadata": {},
   "outputs": [],
   "source": [
    "import warnings\n",
    "\n",
    "warnings.filterwarnings(\"ignore\")\n",
    "\n",
    "import json\n",
    "import os\n",
    "import shutil\n",
    "from datetime import date\n",
    "from typing import Literal\n",
    "\n",
    "import cv2\n",
    "import joblib\n",
    "import matplotlib.pyplot as plt\n",
    "import numpy as np\n",
    "import pandas as pd\n",
    "import shapely.wkt\n",
    "import torch\n",
    "import torch.nn as nn\n",
    "from PIL import Image\n",
    "from shapely import wkt\n",
    "from torch import tensor\n",
    "from torch.autograd import Variable\n",
    "from torch.nn import functional as F\n",
    "from torch.utils.data import DataLoader\n",
    "from torcheval.metrics.functional import (\n",
    "    multiclass_accuracy,\n",
    "    multiclass_f1_score,\n",
    "    multiclass_precision,\n",
    "    multiclass_recall,\n",
    ")\n",
    "from torchvision import datasets, transforms\n",
    "from tqdm.autonotebook import tqdm"
   ]
  },
  {
   "cell_type": "code",
   "execution_count": 2,
   "id": "8c005a7b-910f-4000-af2e-dba3e09f0dd1",
   "metadata": {},
   "outputs": [],
   "source": [
    "# os.chdir('../..')"
   ]
  },
  {
   "cell_type": "code",
   "execution_count": 3,
   "id": "44624c9b-a3eb-48a2-bdea-78b06a0c9d2e",
   "metadata": {},
   "outputs": [
    {
     "name": "stdout",
     "output_type": "stream",
     "text": [
      "ROOT_DIR='/workspaces/alivio-app'\n",
      "INFERENCE_ROOT='/workspaces/alivio-app/data/xview_building_damage/inference'\n",
      "UPLOADS_IMG='/workspaces/alivio-app/data/xview_building_damage/inference/upload/img'\n",
      "UPLOADS_JSON='/workspaces/alivio-app/data/xview_building_damage/inference/upload/json'\n",
      "POST_PROCESSED='/workspaces/alivio-app/data/xview_building_damage/inference/postprocesssed'\n",
      "PRE_PROCESSED='/workspaces/alivio-app/data/xview_building_damage/inference/preprocesssed'\n"
     ]
    }
   ],
   "source": [
    "ROOT_DIR: str = os.getcwd()\n",
    "INFERENCE_ROOT: str = os.path.join(ROOT_DIR, \"data\", \"xview_building_damage\", \"inference\")\n",
    "UPLOADS_IMG: str = os.path.join(INFERENCE_ROOT, \"upload\", \"img\")\n",
    "UPLOADS_JSON: str = os.path.join(INFERENCE_ROOT, \"upload\", \"json\")\n",
    "POST_PROCESSED: str = os.path.join(INFERENCE_ROOT, \"postprocesssed\")\n",
    "PRE_PROCESSED: str = os.path.join(INFERENCE_ROOT, \"preprocesssed\")\n",
    "\n",
    "print(f\"{ROOT_DIR=}\")\n",
    "print(f\"{INFERENCE_ROOT=}\")\n",
    "print(f\"{UPLOADS_IMG=}\")\n",
    "print(f\"{UPLOADS_JSON=}\")\n",
    "print(f\"{POST_PROCESSED=}\")\n",
    "print(f\"{PRE_PROCESSED=}\")"
   ]
  },
  {
   "cell_type": "code",
   "execution_count": 4,
   "id": "a885375f",
   "metadata": {},
   "outputs": [],
   "source": [
    "os.makedirs(UPLOADS_IMG, exist_ok=True)\n",
    "os.makedirs(UPLOADS_JSON, exist_ok=True)\n",
    "os.makedirs(POST_PROCESSED, exist_ok=True)\n",
    "os.makedirs(PRE_PROCESSED, exist_ok=True)"
   ]
  },
  {
   "cell_type": "code",
   "execution_count": 5,
   "id": "68eb6b26-4a81-490f-b5af-f0cada9f6ac8",
   "metadata": {},
   "outputs": [
    {
     "name": "stdout",
     "output_type": "stream",
     "text": [
      "1\n",
      "1\n"
     ]
    }
   ],
   "source": [
    "uploaded_imgs = (\n",
    "    [f\"{UPLOADS_IMG}/{f}\" for f in os.listdir(UPLOADS_IMG)]\n",
    ")\n",
    "uploaded_jsons = (\n",
    "    [f\"{UPLOADS_JSON}/{f}\" for f in os.listdir(UPLOADS_JSON)]\n",
    ")\n",
    "\n",
    "print(len(uploaded_imgs))\n",
    "print(len(uploaded_jsons))"
   ]
  },
  {
   "cell_type": "markdown",
   "id": "c8611bae-e329-463f-af36-ca3af18cdc2e",
   "metadata": {},
   "source": [
    "### Convert the Uploaded JSON to CSV"
   ]
  },
  {
   "cell_type": "code",
   "execution_count": 6,
   "id": "c136d9ae-c7a7-43c3-b480-53f9afde4e9c",
   "metadata": {},
   "outputs": [],
   "source": [
    "label_json_data: list[dict] = []\n",
    "\n",
    "\n",
    "def read_and_store_label_json(label_json_path: str):\n",
    "    \"\"\"A thread-safe function that reads a json as a dictionary and writes to a global list\"\"\"\n",
    "    with open(label_json_path) as f:\n",
    "        label_json_data.append(json.load(f))"
   ]
  },
  {
   "cell_type": "code",
   "execution_count": 7,
   "id": "be8b2d0b-3c93-4b68-9cbd-b695154319eb",
   "metadata": {},
   "outputs": [],
   "source": [
    "read_and_store_label_json(uploaded_jsons[0])"
   ]
  },
  {
   "cell_type": "code",
   "execution_count": 8,
   "id": "3a3225eb-2ac7-42b0-ba6c-9ccb8ebe9061",
   "metadata": {},
   "outputs": [
    {
     "name": "stdout",
     "output_type": "stream",
     "text": [
      "(1, 20)\n"
     ]
    },
    {
     "data": {
      "text/html": [
       "<div>\n",
       "<style scoped>\n",
       "    .dataframe tbody tr th:only-of-type {\n",
       "        vertical-align: middle;\n",
       "    }\n",
       "\n",
       "    .dataframe tbody tr th {\n",
       "        vertical-align: top;\n",
       "    }\n",
       "\n",
       "    .dataframe thead th {\n",
       "        text-align: right;\n",
       "    }\n",
       "</style>\n",
       "<table border=\"1\" class=\"dataframe\">\n",
       "  <thead>\n",
       "    <tr style=\"text-align: right;\">\n",
       "      <th></th>\n",
       "      <th>features.lng_lat</th>\n",
       "      <th>features.xy</th>\n",
       "      <th>metadata.sensor</th>\n",
       "      <th>metadata.provider_asset_type</th>\n",
       "      <th>metadata.gsd</th>\n",
       "      <th>metadata.capture_date</th>\n",
       "      <th>metadata.off_nadir_angle</th>\n",
       "      <th>metadata.pan_resolution</th>\n",
       "      <th>metadata.sun_azimuth</th>\n",
       "      <th>metadata.sun_elevation</th>\n",
       "      <th>metadata.target_azimuth</th>\n",
       "      <th>metadata.disaster</th>\n",
       "      <th>metadata.disaster_type</th>\n",
       "      <th>metadata.catalog_id</th>\n",
       "      <th>metadata.original_width</th>\n",
       "      <th>metadata.original_height</th>\n",
       "      <th>metadata.width</th>\n",
       "      <th>metadata.height</th>\n",
       "      <th>metadata.id</th>\n",
       "      <th>metadata.img_name</th>\n",
       "    </tr>\n",
       "  </thead>\n",
       "  <tbody>\n",
       "    <tr>\n",
       "      <th>0</th>\n",
       "      <td>[{'properties': {'feature_type': 'building', '...</td>\n",
       "      <td>[{'properties': {'feature_type': 'building', '...</td>\n",
       "      <td>WORLDVIEW03_VNIR</td>\n",
       "      <td>WORLDVIEW03_VNIR</td>\n",
       "      <td>1.909097</td>\n",
       "      <td>2016-10-08T15:33:12.799Z</td>\n",
       "      <td>38.06583</td>\n",
       "      <td>0.477265</td>\n",
       "      <td>144.004517</td>\n",
       "      <td>60.312649</td>\n",
       "      <td>279.450775</td>\n",
       "      <td>hurricane-matthew</td>\n",
       "      <td>wind</td>\n",
       "      <td>10400100233B1C00</td>\n",
       "      <td>1024</td>\n",
       "      <td>1024</td>\n",
       "      <td>1024</td>\n",
       "      <td>1024</td>\n",
       "      <td>MjU4NjM5Ng.hxGJlAVQ8JPvon1EV6UJp8YuyW4</td>\n",
       "      <td>hurricane-matthew_00000302_post_disaster.png</td>\n",
       "    </tr>\n",
       "  </tbody>\n",
       "</table>\n",
       "</div>"
      ],
      "text/plain": [
       "                                    features.lng_lat  \\\n",
       "0  [{'properties': {'feature_type': 'building', '...   \n",
       "\n",
       "                                         features.xy   metadata.sensor  \\\n",
       "0  [{'properties': {'feature_type': 'building', '...  WORLDVIEW03_VNIR   \n",
       "\n",
       "  metadata.provider_asset_type  metadata.gsd     metadata.capture_date  \\\n",
       "0             WORLDVIEW03_VNIR      1.909097  2016-10-08T15:33:12.799Z   \n",
       "\n",
       "   metadata.off_nadir_angle  metadata.pan_resolution  metadata.sun_azimuth  \\\n",
       "0                  38.06583                 0.477265            144.004517   \n",
       "\n",
       "   metadata.sun_elevation  metadata.target_azimuth  metadata.disaster  \\\n",
       "0               60.312649               279.450775  hurricane-matthew   \n",
       "\n",
       "  metadata.disaster_type metadata.catalog_id  metadata.original_width  \\\n",
       "0                   wind    10400100233B1C00                     1024   \n",
       "\n",
       "   metadata.original_height  metadata.width  metadata.height  \\\n",
       "0                      1024            1024             1024   \n",
       "\n",
       "                              metadata.id  \\\n",
       "0  MjU4NjM5Ng.hxGJlAVQ8JPvon1EV6UJp8YuyW4   \n",
       "\n",
       "                              metadata.img_name  \n",
       "0  hurricane-matthew_00000302_post_disaster.png  "
      ]
     },
     "execution_count": 8,
     "metadata": {},
     "output_type": "execute_result"
    }
   ],
   "source": [
    "label_df_original: pd.DataFrame = pd.json_normalize(pd.Series(label_json_data))\n",
    "print(label_df_original.shape)\n",
    "label_df_original.head()"
   ]
  },
  {
   "cell_type": "code",
   "execution_count": 9,
   "id": "de497405-c9e5-4a36-ab09-0c1355b979b4",
   "metadata": {},
   "outputs": [],
   "source": [
    "lbl_df: pd.DataFrame = label_df_original.copy()\n",
    "CHALLENGE_TYPE: Literal[\"train\", \"test\", \"hold\"] = \"test\"\n",
    "\n",
    "\n",
    "def json_df_to_csv(label_df: pd.DataFrame):\n",
    "    label_df_lng_lat: pd.DataFrame = (\n",
    "        label_df.drop(columns=[\"features.xy\", \"features.lng_lat\"])\n",
    "        .join(label_df[\"features.lng_lat\"].explode())\n",
    "        .reset_index(drop=True)\n",
    "    )\n",
    "\n",
    "    label_df_features: pd.DataFrame = (\n",
    "        label_df.drop(columns=[\"features.xy\", \"features.lng_lat\"])\n",
    "        .join(label_df[\"features.xy\"].explode())\n",
    "        .reset_index(drop=True)\n",
    "    )\n",
    "\n",
    "    lng_lat_normalized: pd.DataFrame = pd.json_normalize(\n",
    "        label_df_lng_lat[\"features.lng_lat\"]\n",
    "    ).rename(\n",
    "        columns={\n",
    "            \"wkt\": \"map_polygon\",\n",
    "            \"properties.feature_type\": \"map_feature_type\",\n",
    "            \"properties.subtype\": \"map_damage\",\n",
    "            \"properties.uid\": \"building_id\",\n",
    "        }\n",
    "    )\n",
    "\n",
    "    features_normalized: pd.DataFrame = pd.json_normalize(\n",
    "        label_df_features[\"features.xy\"]\n",
    "    ).rename(\n",
    "        columns={\n",
    "            \"wkt\": \"image_polygon\",\n",
    "            \"properties.feature_type\": \"image_feature_type\",\n",
    "            \"properties.subtype\": \"image_damage\",\n",
    "            \"properties.uid\": \"building_id\",\n",
    "        }\n",
    "    )\n",
    "\n",
    "    label_df_lng_lat_normalized = label_df_lng_lat.drop(\n",
    "        columns=[\"features.lng_lat\"]\n",
    "    ).join(lng_lat_normalized)\n",
    "\n",
    "    label_df_features_normalized = label_df_features.drop(columns=[\"features.xy\"]).join(\n",
    "        features_normalized\n",
    "    )\n",
    "\n",
    "    label_df_final: pd.DataFrame = label_df_lng_lat_normalized.merge(\n",
    "        label_df_features_normalized[\n",
    "            [\n",
    "                \"metadata.id\",\n",
    "                \"image_polygon\",\n",
    "                \"image_feature_type\",\n",
    "                \"image_damage\",\n",
    "                \"building_id\",\n",
    "            ]\n",
    "        ],\n",
    "        \"left\",\n",
    "        [\"metadata.id\", \"building_id\"],\n",
    "    )\n",
    "\n",
    "    label_df_final = (\n",
    "        label_df_final.rename(\n",
    "            columns={\n",
    "                c: c.replace(\"metadata.\", \"\")\n",
    "                for c in label_df_final.columns\n",
    "                if c.startswith(\"metadata.\")\n",
    "            }\n",
    "        )\n",
    "        .drop(\n",
    "            columns=[\n",
    "                \"map_feature_type\",\n",
    "                \"map_damage\",\n",
    "            ]\n",
    "        )\n",
    "        .rename(\n",
    "            columns={\n",
    "                \"image_feature_type\": \"feature_type\",\n",
    "                \"image_damage\": \"damage\",\n",
    "            }\n",
    "        )\n",
    "    )\n",
    "\n",
    "    label_df_final[\"dataset\"] = CHALLENGE_TYPE\n",
    "    label_df_final[\"capture_date\"] = pd.to_datetime(label_df_final[\"capture_date\"])\n",
    "\n",
    "    label_df_final[\"image_id\"] = (\n",
    "        label_df_final[\"img_name\"]\n",
    "        .dropna()\n",
    "        .apply(lambda cell: \"_\".join(cell.split(\"_\")[0:2]))\n",
    "    )\n",
    "    label_df_final[\"is_pre_image\"] = (\n",
    "        label_df_final[\"img_name\"].dropna().apply(lambda cell: \"_pre_disaster\" in cell)\n",
    "    )\n",
    "    label_df_final[\"is_post_image\"] = (\n",
    "        label_df_final[\"img_name\"].dropna().apply(lambda cell: \"_post_disaster\" in cell)\n",
    "    )\n",
    "\n",
    "    label_df_final.to_parquet(f\"{CHALLENGE_TYPE}.parquet\")\n",
    "\n",
    "    concat_list: list[pd.DataFrame] = [\n",
    "        pd.read_parquet(pq_file)\n",
    "        for pq_file in os.listdir()\n",
    "        if pq_file.endswith(\".parquet\")\n",
    "    ]\n",
    "\n",
    "    df = pd.concat(concat_list).reset_index(drop=True)\n",
    "    df.to_parquet(os.path.join(POST_PROCESSED, \"inference_data.parquet\"))\n",
    "\n",
    "    df.to_csv(os.path.join(POST_PROCESSED, \"inference_data.csv\"), index=False)"
   ]
  },
  {
   "cell_type": "code",
   "execution_count": 10,
   "id": "7bd256d4-9e61-4547-869e-60a5515cb6cf",
   "metadata": {},
   "outputs": [],
   "source": [
    "json_df_to_csv(lbl_df)"
   ]
  },
  {
   "cell_type": "markdown",
   "id": "a30f3e4b-51c7-4c03-8db9-6fd2d953c936",
   "metadata": {},
   "source": [
    "### Step 2 : Begin Preprocess"
   ]
  },
  {
   "cell_type": "code",
   "execution_count": 11,
   "id": "bbcc570e-2f6d-4050-8409-cc66b599d287",
   "metadata": {},
   "outputs": [],
   "source": [
    "def get_df_with_class_numeric_labels(df_name):\n",
    "    # df_name['damage'].fillna('pre', inplace=True)\n",
    "    df_name[\"damage_class\"] = df_name[\"damage\"]\n",
    "    keys = list(df_name[\"damage_class\"].value_counts().keys())\n",
    "    df_name[\"damage_class\"] = df_name[\"damage_class\"].apply(keys.index)\n",
    "    df_name[\"damage_class\"].value_counts()\n",
    "    return df_name"
   ]
  },
  {
   "cell_type": "code",
   "execution_count": 12,
   "id": "5ff4faa0-7b5a-4286-9f57-c8f62a8543ca",
   "metadata": {},
   "outputs": [],
   "source": [
    "def get_metadata():\n",
    "    infer_csv = pd.read_csv(os.path.join(POST_PROCESSED, \"inference_data.csv\"))\n",
    "    data = infer_csv[infer_csv[\"image_polygon\"].notna()]\n",
    "    df_disaster = data[data[\"damage\"] != \"un-classified\"]\n",
    "    df_disaster[\"mask_file_names\"] = (\n",
    "        df_disaster[\"img_name\"].str.replace(\".png\", \"_\")\n",
    "        + df_disaster[\"building_id\"]\n",
    "        + \".png\"\n",
    "    )\n",
    "    df_disaster_class_labels = get_df_with_class_numeric_labels(df_disaster)\n",
    "    return df_disaster_class_labels"
   ]
  },
  {
   "cell_type": "code",
   "execution_count": 13,
   "id": "ccf5c7fc-6c5b-4182-b744-fda36624259b",
   "metadata": {},
   "outputs": [
    {
     "name": "stdout",
     "output_type": "stream",
     "text": [
      "(216, 29)\n"
     ]
    },
    {
     "data": {
      "text/html": [
       "<div>\n",
       "<style scoped>\n",
       "    .dataframe tbody tr th:only-of-type {\n",
       "        vertical-align: middle;\n",
       "    }\n",
       "\n",
       "    .dataframe tbody tr th {\n",
       "        vertical-align: top;\n",
       "    }\n",
       "\n",
       "    .dataframe thead th {\n",
       "        text-align: right;\n",
       "    }\n",
       "</style>\n",
       "<table border=\"1\" class=\"dataframe\">\n",
       "  <thead>\n",
       "    <tr style=\"text-align: right;\">\n",
       "      <th></th>\n",
       "      <th>sensor</th>\n",
       "      <th>provider_asset_type</th>\n",
       "      <th>gsd</th>\n",
       "      <th>capture_date</th>\n",
       "      <th>off_nadir_angle</th>\n",
       "      <th>pan_resolution</th>\n",
       "      <th>sun_azimuth</th>\n",
       "      <th>sun_elevation</th>\n",
       "      <th>target_azimuth</th>\n",
       "      <th>disaster</th>\n",
       "      <th>...</th>\n",
       "      <th>building_id</th>\n",
       "      <th>image_polygon</th>\n",
       "      <th>feature_type</th>\n",
       "      <th>damage</th>\n",
       "      <th>dataset</th>\n",
       "      <th>image_id</th>\n",
       "      <th>is_pre_image</th>\n",
       "      <th>is_post_image</th>\n",
       "      <th>mask_file_names</th>\n",
       "      <th>damage_class</th>\n",
       "    </tr>\n",
       "  </thead>\n",
       "  <tbody>\n",
       "    <tr>\n",
       "      <th>0</th>\n",
       "      <td>WORLDVIEW03_VNIR</td>\n",
       "      <td>WORLDVIEW03_VNIR</td>\n",
       "      <td>1.909097</td>\n",
       "      <td>2016-10-08 15:33:12.799000+00:00</td>\n",
       "      <td>38.06583</td>\n",
       "      <td>0.477265</td>\n",
       "      <td>144.004517</td>\n",
       "      <td>60.312649</td>\n",
       "      <td>279.450775</td>\n",
       "      <td>hurricane-matthew</td>\n",
       "      <td>...</td>\n",
       "      <td>f7348131-6c54-4c5a-a582-485850212e74</td>\n",
       "      <td>POLYGON ((1.542371701700936 168.1241877196607,...</td>\n",
       "      <td>building</td>\n",
       "      <td>no-damage</td>\n",
       "      <td>test</td>\n",
       "      <td>hurricane-matthew_00000302</td>\n",
       "      <td>False</td>\n",
       "      <td>True</td>\n",
       "      <td>hurricane-matthew_00000302_post_disaster_f7348...</td>\n",
       "      <td>0</td>\n",
       "    </tr>\n",
       "    <tr>\n",
       "      <th>1</th>\n",
       "      <td>WORLDVIEW03_VNIR</td>\n",
       "      <td>WORLDVIEW03_VNIR</td>\n",
       "      <td>1.909097</td>\n",
       "      <td>2016-10-08 15:33:12.799000+00:00</td>\n",
       "      <td>38.06583</td>\n",
       "      <td>0.477265</td>\n",
       "      <td>144.004517</td>\n",
       "      <td>60.312649</td>\n",
       "      <td>279.450775</td>\n",
       "      <td>hurricane-matthew</td>\n",
       "      <td>...</td>\n",
       "      <td>fd75da06-838b-414d-87e0-5f66c1e12f3f</td>\n",
       "      <td>POLYGON ((77.28999989817102 159.7900000240562,...</td>\n",
       "      <td>building</td>\n",
       "      <td>minor-damage</td>\n",
       "      <td>test</td>\n",
       "      <td>hurricane-matthew_00000302</td>\n",
       "      <td>False</td>\n",
       "      <td>True</td>\n",
       "      <td>hurricane-matthew_00000302_post_disaster_fd75d...</td>\n",
       "      <td>1</td>\n",
       "    </tr>\n",
       "    <tr>\n",
       "      <th>2</th>\n",
       "      <td>WORLDVIEW03_VNIR</td>\n",
       "      <td>WORLDVIEW03_VNIR</td>\n",
       "      <td>1.909097</td>\n",
       "      <td>2016-10-08 15:33:12.799000+00:00</td>\n",
       "      <td>38.06583</td>\n",
       "      <td>0.477265</td>\n",
       "      <td>144.004517</td>\n",
       "      <td>60.312649</td>\n",
       "      <td>279.450775</td>\n",
       "      <td>hurricane-matthew</td>\n",
       "      <td>...</td>\n",
       "      <td>48013051-1cda-4b82-b1b4-204edc0195e0</td>\n",
       "      <td>POLYGON ((89.05825064169461 153.1524478280697,...</td>\n",
       "      <td>building</td>\n",
       "      <td>minor-damage</td>\n",
       "      <td>test</td>\n",
       "      <td>hurricane-matthew_00000302</td>\n",
       "      <td>False</td>\n",
       "      <td>True</td>\n",
       "      <td>hurricane-matthew_00000302_post_disaster_48013...</td>\n",
       "      <td>1</td>\n",
       "    </tr>\n",
       "    <tr>\n",
       "      <th>3</th>\n",
       "      <td>WORLDVIEW03_VNIR</td>\n",
       "      <td>WORLDVIEW03_VNIR</td>\n",
       "      <td>1.909097</td>\n",
       "      <td>2016-10-08 15:33:12.799000+00:00</td>\n",
       "      <td>38.06583</td>\n",
       "      <td>0.477265</td>\n",
       "      <td>144.004517</td>\n",
       "      <td>60.312649</td>\n",
       "      <td>279.450775</td>\n",
       "      <td>hurricane-matthew</td>\n",
       "      <td>...</td>\n",
       "      <td>9f718982-7f14-4ee8-8d80-dc18f7165649</td>\n",
       "      <td>POLYGON ((57.70342892842147 125.7329949102509,...</td>\n",
       "      <td>building</td>\n",
       "      <td>no-damage</td>\n",
       "      <td>test</td>\n",
       "      <td>hurricane-matthew_00000302</td>\n",
       "      <td>False</td>\n",
       "      <td>True</td>\n",
       "      <td>hurricane-matthew_00000302_post_disaster_9f718...</td>\n",
       "      <td>0</td>\n",
       "    </tr>\n",
       "    <tr>\n",
       "      <th>4</th>\n",
       "      <td>WORLDVIEW03_VNIR</td>\n",
       "      <td>WORLDVIEW03_VNIR</td>\n",
       "      <td>1.909097</td>\n",
       "      <td>2016-10-08 15:33:12.799000+00:00</td>\n",
       "      <td>38.06583</td>\n",
       "      <td>0.477265</td>\n",
       "      <td>144.004517</td>\n",
       "      <td>60.312649</td>\n",
       "      <td>279.450775</td>\n",
       "      <td>hurricane-matthew</td>\n",
       "      <td>...</td>\n",
       "      <td>d9c66f30-f4b9-4d85-b396-0c59c434eac8</td>\n",
       "      <td>POLYGON ((0.1386328123365646 74.29142875935086...</td>\n",
       "      <td>building</td>\n",
       "      <td>no-damage</td>\n",
       "      <td>test</td>\n",
       "      <td>hurricane-matthew_00000302</td>\n",
       "      <td>False</td>\n",
       "      <td>True</td>\n",
       "      <td>hurricane-matthew_00000302_post_disaster_d9c66...</td>\n",
       "      <td>0</td>\n",
       "    </tr>\n",
       "  </tbody>\n",
       "</table>\n",
       "<p>5 rows × 29 columns</p>\n",
       "</div>"
      ],
      "text/plain": [
       "             sensor provider_asset_type       gsd  \\\n",
       "0  WORLDVIEW03_VNIR    WORLDVIEW03_VNIR  1.909097   \n",
       "1  WORLDVIEW03_VNIR    WORLDVIEW03_VNIR  1.909097   \n",
       "2  WORLDVIEW03_VNIR    WORLDVIEW03_VNIR  1.909097   \n",
       "3  WORLDVIEW03_VNIR    WORLDVIEW03_VNIR  1.909097   \n",
       "4  WORLDVIEW03_VNIR    WORLDVIEW03_VNIR  1.909097   \n",
       "\n",
       "                       capture_date  off_nadir_angle  pan_resolution  \\\n",
       "0  2016-10-08 15:33:12.799000+00:00         38.06583        0.477265   \n",
       "1  2016-10-08 15:33:12.799000+00:00         38.06583        0.477265   \n",
       "2  2016-10-08 15:33:12.799000+00:00         38.06583        0.477265   \n",
       "3  2016-10-08 15:33:12.799000+00:00         38.06583        0.477265   \n",
       "4  2016-10-08 15:33:12.799000+00:00         38.06583        0.477265   \n",
       "\n",
       "   sun_azimuth  sun_elevation  target_azimuth           disaster  ...  \\\n",
       "0   144.004517      60.312649      279.450775  hurricane-matthew  ...   \n",
       "1   144.004517      60.312649      279.450775  hurricane-matthew  ...   \n",
       "2   144.004517      60.312649      279.450775  hurricane-matthew  ...   \n",
       "3   144.004517      60.312649      279.450775  hurricane-matthew  ...   \n",
       "4   144.004517      60.312649      279.450775  hurricane-matthew  ...   \n",
       "\n",
       "                            building_id  \\\n",
       "0  f7348131-6c54-4c5a-a582-485850212e74   \n",
       "1  fd75da06-838b-414d-87e0-5f66c1e12f3f   \n",
       "2  48013051-1cda-4b82-b1b4-204edc0195e0   \n",
       "3  9f718982-7f14-4ee8-8d80-dc18f7165649   \n",
       "4  d9c66f30-f4b9-4d85-b396-0c59c434eac8   \n",
       "\n",
       "                                       image_polygon  feature_type  \\\n",
       "0  POLYGON ((1.542371701700936 168.1241877196607,...      building   \n",
       "1  POLYGON ((77.28999989817102 159.7900000240562,...      building   \n",
       "2  POLYGON ((89.05825064169461 153.1524478280697,...      building   \n",
       "3  POLYGON ((57.70342892842147 125.7329949102509,...      building   \n",
       "4  POLYGON ((0.1386328123365646 74.29142875935086...      building   \n",
       "\n",
       "         damage  dataset                    image_id is_pre_image  \\\n",
       "0     no-damage     test  hurricane-matthew_00000302        False   \n",
       "1  minor-damage     test  hurricane-matthew_00000302        False   \n",
       "2  minor-damage     test  hurricane-matthew_00000302        False   \n",
       "3     no-damage     test  hurricane-matthew_00000302        False   \n",
       "4     no-damage     test  hurricane-matthew_00000302        False   \n",
       "\n",
       "  is_post_image                                    mask_file_names  \\\n",
       "0          True  hurricane-matthew_00000302_post_disaster_f7348...   \n",
       "1          True  hurricane-matthew_00000302_post_disaster_fd75d...   \n",
       "2          True  hurricane-matthew_00000302_post_disaster_48013...   \n",
       "3          True  hurricane-matthew_00000302_post_disaster_9f718...   \n",
       "4          True  hurricane-matthew_00000302_post_disaster_d9c66...   \n",
       "\n",
       "  damage_class  \n",
       "0            0  \n",
       "1            1  \n",
       "2            1  \n",
       "3            0  \n",
       "4            0  \n",
       "\n",
       "[5 rows x 29 columns]"
      ]
     },
     "execution_count": 13,
     "metadata": {},
     "output_type": "execute_result"
    }
   ],
   "source": [
    "df = get_metadata()\n",
    "print(df.shape)\n",
    "df.head()"
   ]
  },
  {
   "cell_type": "code",
   "execution_count": 14,
   "id": "9316bfa4-a065-4a28-8b9b-c1d4e0f1ba3a",
   "metadata": {},
   "outputs": [],
   "source": [
    "def polygons_mask(polygons, im_size: tuple = (1024, 1024)) -> np.ndarray:\n",
    "    \"\"\"Create a mask from polygons.\"\"\"\n",
    "    img_mask = np.zeros(im_size, np.uint8)\n",
    "\n",
    "    if not polygons:\n",
    "        return img_mask\n",
    "    \n",
    "    int_coords = lambda x: np.array(x).round().astype(np.int32)\n",
    "\n",
    "    exteriors = [int_coords(poly.exterior.coords) for poly in polygons]\n",
    "    interiors = [int_coords(pi.coords) for poly in polygons for pi in poly.interiors]\n",
    "\n",
    "    cv2.fillPoly(img_mask, exteriors, 1)\n",
    "    cv2.fillPoly(img_mask, interiors, 0)\n",
    "\n",
    "    return img_mask\n",
    "\n",
    "\n",
    "def create_image_mask_overall(\n",
    "    root_dir: str, meta_df: pd.DataFrame, im_size: tuple = (1024, 1024)\n",
    "):\n",
    "    input_dir = os.path.join(root_dir, \"upload\")\n",
    "    dest_dir = os.path.join(root_dir, str(date.today()))\n",
    "    img_input = os.path.join(input_dir, \"img\")\n",
    "\n",
    "    if os.path.exists(dest_dir):\n",
    "        print(\"Removing the dir with name: \", dest_dir)\n",
    "        os.system(\"rm -rf \" + dest_dir)\n",
    "\n",
    "    print(\"creating empty dir with name \", dest_dir)\n",
    "    os.makedirs(dest_dir)\n",
    "\n",
    "    img_overlay = os.path.join(dest_dir, \"img_mask_overlay\")\n",
    "    if os.path.exists(img_overlay):\n",
    "        print(\"Removing the dir with name: \", img_overlay)\n",
    "        os.system(\"rm -rf \" + img_overlay)\n",
    "\n",
    "    print(\"creating empty dir with name \", img_overlay)\n",
    "    os.makedirs(img_overlay)\n",
    "\n",
    "    df = meta_df[meta_df[\"is_post_image\"] == True]\n",
    "\n",
    "    print(\"Starting : Mask overlay\")\n",
    "    for idx, file_name in tqdm(enumerate(df[\"mask_file_names\"]), total=len(df)):\n",
    "        image = cv2.imread(os.path.join(img_input, df.iloc[idx][\"img_name\"]))\n",
    "        mask = np.zeros(image.shape[:2], dtype=\"uint8\")\n",
    "        _mask = polygons_mask([shapely.wkt.loads(df.iloc[idx][\"image_polygon\"])])\n",
    "        masked = cv2.bitwise_and(image, image, mask=_mask)\n",
    "        plt.imsave(os.path.join(img_overlay, file_name), masked)\n",
    "\n",
    "    print(\"Ending : Mask overlay\")"
   ]
  },
  {
   "cell_type": "code",
   "execution_count": 15,
   "id": "445fb030",
   "metadata": {},
   "outputs": [
    {
     "name": "stdout",
     "output_type": "stream",
     "text": [
      "Removing the dir with name:  /workspaces/alivio-app/data/xview_building_damage/inference/2024-04-15\n",
      "creating empty dir with name  /workspaces/alivio-app/data/xview_building_damage/inference/2024-04-15\n",
      "creating empty dir with name  /workspaces/alivio-app/data/xview_building_damage/inference/2024-04-15/img_mask_overlay\n",
      "Starting : Mask overlay\n"
     ]
    },
    {
     "name": "stderr",
     "output_type": "stream",
     "text": [
      " 10%|█         | 22/216 [00:01<00:12, 15.52it/s]"
     ]
    },
    {
     "name": "stderr",
     "output_type": "stream",
     "text": [
      "100%|██████████| 216/216 [00:13<00:00, 15.64it/s]"
     ]
    },
    {
     "name": "stdout",
     "output_type": "stream",
     "text": [
      "Ending : Mask overlay\n"
     ]
    },
    {
     "name": "stderr",
     "output_type": "stream",
     "text": [
      "\n"
     ]
    }
   ],
   "source": [
    "create_image_mask_overall(INFERENCE_ROOT, df)"
   ]
  },
  {
   "cell_type": "code",
   "execution_count": 16,
   "id": "2115d5e6-58fa-494c-9b64-ddac0907883b",
   "metadata": {},
   "outputs": [],
   "source": [
    "def get_bounds_tp(image_wkt: str) -> tuple[float]:\n",
    "    bounds = wkt.loads(image_wkt).bounds\n",
    "    return (bounds[0], bounds[1], bounds[2], bounds[3])  # type: ignore\n",
    "\n",
    "\n",
    "def crop_save_masked_images(\n",
    "    root_dir: str,\n",
    "    meta_df: pd.DataFrame,\n",
    "    crop_output_dir_name: str = \"img_mask_overlay_crops\",\n",
    "):\n",
    "    input_dir = os.path.join(root_dir, str(date.today()))\n",
    "    img_crop_overlay = os.path.join(input_dir, crop_output_dir_name)\n",
    "\n",
    "    if os.path.exists(img_crop_overlay):\n",
    "        print(\"Removing the dir with name: \", img_crop_overlay)\n",
    "\n",
    "    os.system(\"rm -rf \" + img_crop_overlay)\n",
    "\n",
    "    print(\"creating empty dir with name \", img_crop_overlay)\n",
    "    os.makedirs(img_crop_overlay)\n",
    "\n",
    "    print(\"Starting Cropping the images\")\n",
    "\n",
    "    for idx, file_name in tqdm(enumerate(meta_df[\"mask_file_names\"]), total=len(df)):\n",
    "        img = Image.open(os.path.join(input_dir, \"img_mask_overlay\", file_name))\n",
    "        minx, miny, maxx, maxy = get_bounds_tp(meta_df.iloc[idx][\"image_polygon\"])\n",
    "        cropped_img = img.crop((minx - 5, miny - 5, maxx + 5, maxy + 5))\n",
    "        cropped_img.save(os.path.join(img_crop_overlay, file_name))\n",
    "\n",
    "    print(\"Finished Cropping the images\")"
   ]
  },
  {
   "cell_type": "code",
   "execution_count": 17,
   "id": "a9cfc476",
   "metadata": {},
   "outputs": [
    {
     "name": "stdout",
     "output_type": "stream",
     "text": [
      "creating empty dir with name  /workspaces/alivio-app/data/xview_building_damage/inference/2024-04-15/img_mask_overlay_crops\n",
      "Starting Cropping the images\n"
     ]
    },
    {
     "name": "stderr",
     "output_type": "stream",
     "text": [
      "  4%|▎         | 8/216 [00:00<00:02, 73.83it/s]"
     ]
    },
    {
     "name": "stderr",
     "output_type": "stream",
     "text": [
      "100%|██████████| 216/216 [00:02<00:00, 73.40it/s]"
     ]
    },
    {
     "name": "stdout",
     "output_type": "stream",
     "text": [
      "Finished Cropping the images\n"
     ]
    },
    {
     "name": "stderr",
     "output_type": "stream",
     "text": [
      "\n"
     ]
    }
   ],
   "source": [
    "crop_save_masked_images(\n",
    "    root_dir=INFERENCE_ROOT,\n",
    "    meta_df=df,\n",
    "    crop_output_dir_name=\"img_mask_overlay_crops\",\n",
    ")"
   ]
  },
  {
   "cell_type": "code",
   "execution_count": 18,
   "id": "674b9458-6cfa-4ede-bebc-1fe4ddbfdfbf",
   "metadata": {},
   "outputs": [],
   "source": [
    "def sort_masks_by_class(\n",
    "    top_dir: str, meta_df: pd.DataFrame, cls_path=\"img_mask_ov_crop_class\"\n",
    ") -> None:\n",
    "    input_dir = os.path.join(top_dir, str(date.today()))\n",
    "    disas_post_mask = os.path.join(input_dir, \"img_mask_overlay_crops\")  # source\n",
    "\n",
    "    print(\"Source root : \", disas_post_mask)\n",
    "    disas_class_path = os.path.join(input_dir, \"img_mask_ov_crop_class\")\n",
    "\n",
    "    if os.path.exists(disas_class_path):\n",
    "        print(\"Removing the dir with name: \", disas_class_path)\n",
    "\n",
    "    os.system(\"rm -rf \" + disas_class_path)\n",
    "\n",
    "    print(\"creating empty dir with name \", disas_class_path)\n",
    "    os.makedirs(disas_class_path)\n",
    "\n",
    "    print(\"Destination root : \", disas_class_path)\n",
    "\n",
    "    df = meta_df[meta_df[\"is_post_image\"] == True]\n",
    "\n",
    "    print(\"Started moving the mask files to class folder \")\n",
    "\n",
    "    for idx, file_name in tqdm(enumerate(df[\"mask_file_names\"]), total=len(df)):\n",
    "        source = os.path.join(disas_post_mask, df.iloc[idx][\"mask_file_names\"])\n",
    "        destination = os.path.join(disas_class_path, df.iloc[idx][\"damage\"])\n",
    "        if os.path.exists(destination):\n",
    "            pass\n",
    "        else:\n",
    "            print(\"Creating dir for \", df.iloc[idx][\"damage\"])\n",
    "            os.makedirs(destination)\n",
    "\n",
    "        if os.path.exists(source):\n",
    "            shutil.copy(source, destination)\n",
    "    print(\"Finshed moving the mask files to class folder \")"
   ]
  },
  {
   "cell_type": "code",
   "execution_count": 19,
   "id": "e54eb3b5-87f9-4cb8-9ed5-0d0de22089d2",
   "metadata": {},
   "outputs": [
    {
     "name": "stdout",
     "output_type": "stream",
     "text": [
      "Source root :  /workspaces/alivio-app/data/xview_building_damage/inference/2024-04-15/img_mask_overlay_crops\n",
      "creating empty dir with name  /workspaces/alivio-app/data/xview_building_damage/inference/2024-04-15/img_mask_ov_crop_class\n",
      "Destination root :  /workspaces/alivio-app/data/xview_building_damage/inference/2024-04-15/img_mask_ov_crop_class\n",
      "Started moving the mask files to class folder \n"
     ]
    },
    {
     "name": "stderr",
     "output_type": "stream",
     "text": [
      "  0%|          | 0/216 [00:00<?, ?it/s]"
     ]
    },
    {
     "name": "stdout",
     "output_type": "stream",
     "text": [
      "Creating dir for  no-damage\n",
      "Creating dir for  minor-damage\n",
      "Creating dir for  major-damage\n",
      "Creating dir for  destroyed\n"
     ]
    },
    {
     "name": "stderr",
     "output_type": "stream",
     "text": [
      "100%|██████████| 216/216 [00:00<00:00, 2776.63it/s]"
     ]
    },
    {
     "name": "stdout",
     "output_type": "stream",
     "text": [
      "Finshed moving the mask files to class folder \n"
     ]
    },
    {
     "name": "stderr",
     "output_type": "stream",
     "text": [
      "\n"
     ]
    }
   ],
   "source": [
    "sort_masks_by_class(INFERENCE_ROOT , df)"
   ]
  },
  {
   "cell_type": "code",
   "execution_count": 20,
   "id": "a821765b-c9f8-4608-a57f-e41411fee4f6",
   "metadata": {},
   "outputs": [],
   "source": [
    "def calculate_weight_decay(batch, train_data_len, nepoches, lambda_norm):\n",
    "    return lambda_norm * math.sqrt((batch / (train_data_len * nepoches)))"
   ]
  },
  {
   "cell_type": "markdown",
   "id": "4aef1286-4363-4372-b810-44d3eb3eeef7",
   "metadata": {},
   "source": [
    "### Test Loader"
   ]
  },
  {
   "cell_type": "code",
   "execution_count": 21,
   "id": "84a50805-577c-4e99-ada6-d790653d7e3e",
   "metadata": {},
   "outputs": [],
   "source": [
    "test_transform = transforms.Compose([\n",
    "    # Resize the images to 64x64\n",
    "    transforms.Resize(size=(224, 224)),    \n",
    "    # Flip the images randomly on the horizontal\n",
    "    transforms.RandomHorizontalFlip(p=0.5), \n",
    "    # Turn the image into a torch.Tensor\n",
    "    transforms.ToTensor() # this also converts all pixel values from 0 to 255 to be between 0.0 and 1.0 \n",
    "])"
   ]
  },
  {
   "cell_type": "code",
   "execution_count": 22,
   "id": "3f80886f-f34a-43e3-8f55-59bccbbde0d1",
   "metadata": {},
   "outputs": [],
   "source": [
    "batch_size = 128\n",
    "inference_all_dataset = datasets.ImageFolder(\n",
    "    os.path.join(INFERENCE_ROOT, str(date.today()), \"img_mask_ov_crop_class\"),\n",
    "    transform=test_transform,\n",
    ")\n",
    "inference_loader = DataLoader(\n",
    "    inference_all_dataset, batch_size=batch_size\n",
    ")"
   ]
  },
  {
   "cell_type": "code",
   "execution_count": 23,
   "id": "3db242d2-9f26-4764-acef-6e50ad81b540",
   "metadata": {},
   "outputs": [
    {
     "name": "stdout",
     "output_type": "stream",
     "text": [
      "class_names  ['destroyed', 'major-damage', 'minor-damage', 'no-damage']\n",
      "class_dict  {'destroyed': 0, 'major-damage': 1, 'minor-damage': 2, 'no-damage': 3}\n"
     ]
    }
   ],
   "source": [
    "class_names = inference_all_dataset.classes\n",
    "print(\"class_names \",class_names)\n",
    "\n",
    "class_dict = inference_all_dataset.class_to_idx\n",
    "print(\"class_dict \",class_dict)"
   ]
  },
  {
   "cell_type": "markdown",
   "id": "20b0058c-320f-4152-b97b-54456c6719a2",
   "metadata": {},
   "source": [
    "### Load the pickle file"
   ]
  },
  {
   "cell_type": "code",
   "execution_count": 24,
   "id": "2880ae26",
   "metadata": {},
   "outputs": [],
   "source": [
    "path = \"vit2024-04-11.pkl\"\n",
    "vit_model = joblib.load(os.path.join(path))"
   ]
  },
  {
   "cell_type": "code",
   "execution_count": 25,
   "id": "1efb13a3-9ec4-41ad-9d84-64079dee8491",
   "metadata": {},
   "outputs": [],
   "source": [
    "%%capture\n",
    "\n",
    "print(\"=============================== Model Layers ==========================\")\n",
    "for layer_name, p in vit_model.named_parameters():\n",
    "    print(\"Layer Name: {}, Frozen: {}\".format(layer_name, not p.requires_grad))\n",
    "    print()"
   ]
  },
  {
   "cell_type": "code",
   "execution_count": 26,
   "id": "9970f7c6-906f-4f45-8390-dcdf959da1b8",
   "metadata": {},
   "outputs": [],
   "source": [
    "def get_class_weights(labels):\n",
    "    class_counts = np.bincount(labels)\n",
    "    num_classes = len(class_counts)\n",
    "    total_samples = len(labels)\n",
    "\n",
    "    class_weights = []\n",
    "    for count in class_counts:\n",
    "        weight = 1 / (count / total_samples)\n",
    "        class_weights.append(weight)\n",
    "\n",
    "    return class_weights"
   ]
  },
  {
   "cell_type": "code",
   "execution_count": 27,
   "id": "1a87a54b-4056-4cf8-b5b5-fb66ff699e6a",
   "metadata": {},
   "outputs": [],
   "source": [
    "def get_metrics(preds_list, target_list, num_classes=4) -> tuple:\n",
    "    pred_ts = tensor(preds_list)\n",
    "    target_ts = tensor(target_list)\n",
    "\n",
    "    accuracy = multiclass_accuracy(pred_ts, target_ts, num_classes=4)\n",
    "\n",
    "    f1_score = multiclass_f1_score(\n",
    "        pred_ts, target_ts, num_classes=4, average=\"weighted\"\n",
    "    )\n",
    "\n",
    "    precision = multiclass_precision(\n",
    "        pred_ts, target_ts, num_classes=4, average=\"weighted\"\n",
    "    )\n",
    "    recall = multiclass_recall(pred_ts, target_ts, num_classes=4, average=\"weighted\")\n",
    "    f1_score_class_wise = multiclass_f1_score(\n",
    "        pred_ts, target_ts, num_classes=4, average=None\n",
    "    )\n",
    "\n",
    "    print(\"Accuracy :\", accuracy)\n",
    "    print(\"F1-score : \", f1_score)\n",
    "    print(\"F1-score Classwise : \", f1_score_class_wise)\n",
    "    print(\"Precision : \", precision)\n",
    "    print(\"Recall : \", recall)\n",
    "    return accuracy, f1_score, precision, recall"
   ]
  },
  {
   "cell_type": "code",
   "execution_count": 28,
   "id": "95d63201-a072-41a9-ac2c-c26dc2b41760",
   "metadata": {},
   "outputs": [],
   "source": [
    "def accuracy_per_class(class_correct, class_total, class_names, accuracy):\n",
    "    n_class = len(class_names)\n",
    "\n",
    "    class_accuracy = class_correct / class_total\n",
    "\n",
    "    print(\"Test Accuracy of Classes\")\n",
    "    print()\n",
    "\n",
    "    for c in range(n_class):\n",
    "        print(\n",
    "            \"{}\\t: {}% \\t ({}/{})\".format(\n",
    "                class_names[c],\n",
    "                int(class_accuracy[c] * 100),\n",
    "                int(class_correct[c]),\n",
    "                int(class_total[c]),\n",
    "            )\n",
    "        )\n",
    "\n",
    "    print()\n",
    "    print(\n",
    "        \"Test Accuracy of Dataset: \\t {}% \\t ({}/{})\".format(\n",
    "            int(accuracy), int(np.sum(class_correct)), int(np.sum(class_total))\n",
    "        )\n",
    "    )"
   ]
  },
  {
   "cell_type": "code",
   "execution_count": 29,
   "id": "fdd72248-1bfa-4568-bbbd-fda91e4a666f",
   "metadata": {},
   "outputs": [],
   "source": [
    "def model_eval(model, test_loader, criterion, class_names):\n",
    "    model.eval()\n",
    "\n",
    "    preds_list = []\n",
    "    target_list = []\n",
    "    output_list = []\n",
    "\n",
    "    test_loss = 0.0\n",
    "    # test_focal_loss = 0.0\n",
    "    accuracy = 0\n",
    "\n",
    "    # number of classes\n",
    "    n_class = len(class_names)\n",
    "\n",
    "    class_correct = np.zeros(n_class)\n",
    "    class_total = np.zeros(n_class)\n",
    "\n",
    "    # move model back to cpu\n",
    "    model = model.to(\"cpu\")\n",
    "\n",
    "    # test model\n",
    "    for images, targets in test_loader:\n",
    "\n",
    "        # get outputs\n",
    "        outputs = model(images)\n",
    "\n",
    "        # calculate loss\n",
    "        loss = criterion(outputs, targets)\n",
    "        # fl = get_focal_loss(loss)\n",
    "\n",
    "        # track loss\n",
    "        test_loss += loss.item()\n",
    "        # test_focal_loss += fl.item()\n",
    "\n",
    "        # get predictions from probabilities\n",
    "        preds = torch.argmax(F.softmax(outputs, dim=1), dim=1)\n",
    "\n",
    "        target_list.extend(targets)\n",
    "        output_list.extend(torch.argmax(F.softmax(outputs, dim=1), dim=1))\n",
    "        preds_list.extend(preds)\n",
    "\n",
    "        # get correct predictions\n",
    "        correct_preds = (preds == targets).type(torch.FloatTensor)\n",
    "\n",
    "        # calculate and accumulate accuracy\n",
    "        accuracy += torch.mean(correct_preds).item() * 100\n",
    "\n",
    "        # calculate test accuracy for each class\n",
    "        for c in range(n_class):\n",
    "\n",
    "            targets = targets.to(\"cpu\")\n",
    "\n",
    "            class_total[c] += (targets == c).sum()\n",
    "            class_correct[c] += ((correct_preds) * (targets == c)).sum()\n",
    "\n",
    "    # get average accuracy\n",
    "    accuracy = accuracy / len(test_loader)\n",
    "\n",
    "    # get average loss\n",
    "    test_loss = test_loss / len(test_loader)\n",
    "\n",
    "    # test_focal_loss = test_focal_loss/ len(test_loader)\n",
    "\n",
    "    # output test loss statistics\n",
    "    print(\"Test Loss: {:.6f}\".format(test_loss))\n",
    "    # print('Test Focal Loss: {:.6f}'.format(test_focal_loss))\n",
    "\n",
    "    accuracy_per_class(class_correct, class_total, class_names, accuracy)\n",
    "\n",
    "    metrics = get_metrics(preds_list, target_list)\n",
    "    class_data = {class_names[c]: {\"correct\": class_correct[c], \"total\": class_total[c]} for c in range(n_class)}\n",
    "\n",
    "    return metrics, class_data"
   ]
  },
  {
   "cell_type": "code",
   "execution_count": 30,
   "id": "0b57fdf5",
   "metadata": {},
   "outputs": [
    {
     "name": "stdout",
     "output_type": "stream",
     "text": [
      "Test Loss: 1.581329\n",
      "Test Accuracy of Classes\n",
      "\n",
      "destroyed\t: 71% \t (5/7)\n",
      "major-damage\t: 41% \t (21/51)\n",
      "minor-damage\t: 33% \t (21/63)\n",
      "no-damage\t: 16% \t (16/95)\n",
      "\n",
      "Test Accuracy of Dataset: \t 27% \t (63/216)\n",
      "Accuracy : tensor(0.2917)\n",
      "F1-score :  tensor(0.3091)\n",
      "F1-score Classwise :  tensor([0.1316, 0.3750, 0.3360, 0.2689])\n",
      "Precision :  tensor(0.4756)\n",
      "Recall :  tensor(0.2917)\n"
     ]
    }
   ],
   "source": [
    "criterion = nn.CrossEntropyLoss()\n",
    "\n",
    "x, y = model_eval(vit_model, inference_loader, criterion, class_names)"
   ]
  },
  {
   "cell_type": "code",
   "execution_count": 33,
   "id": "7ad31a08",
   "metadata": {},
   "outputs": [
    {
     "data": {
      "application/vnd.plotly.v1+json": {
       "config": {
        "plotlyServerURL": "https://plot.ly"
       },
       "data": [
        {
         "alignmentgroup": "True",
         "hovertemplate": "Prediction Type=Correct<br>Class=%{x}<br>Number of Predictions=%{y}<extra></extra>",
         "legendgroup": "Correct",
         "marker": {
          "color": "green",
          "pattern": {
           "shape": ""
          }
         },
         "name": "Correct",
         "offsetgroup": "Correct",
         "orientation": "v",
         "showlegend": true,
         "textposition": "auto",
         "type": "bar",
         "x": [
          "destroyed",
          "major-damage",
          "minor-damage",
          "no-damage"
         ],
         "xaxis": "x",
         "y": [
          5,
          21,
          21,
          16
         ],
         "yaxis": "y"
        },
        {
         "alignmentgroup": "True",
         "hovertemplate": "Prediction Type=Incorrect<br>Class=%{x}<br>Number of Predictions=%{y}<extra></extra>",
         "legendgroup": "Incorrect",
         "marker": {
          "color": "red",
          "pattern": {
           "shape": ""
          }
         },
         "name": "Incorrect",
         "offsetgroup": "Incorrect",
         "orientation": "v",
         "showlegend": true,
         "textposition": "auto",
         "type": "bar",
         "x": [
          "destroyed",
          "major-damage",
          "minor-damage",
          "no-damage"
         ],
         "xaxis": "x",
         "y": [
          2,
          30,
          42,
          79
         ],
         "yaxis": "y"
        }
       ],
       "layout": {
        "barmode": "relative",
        "legend": {
         "title": {
          "text": "Prediction Type"
         },
         "tracegroupgap": 0
        },
        "template": {
         "data": {
          "bar": [
           {
            "error_x": {
             "color": "#2a3f5f"
            },
            "error_y": {
             "color": "#2a3f5f"
            },
            "marker": {
             "line": {
              "color": "white",
              "width": 0.5
             },
             "pattern": {
              "fillmode": "overlay",
              "size": 10,
              "solidity": 0.2
             }
            },
            "type": "bar"
           }
          ],
          "barpolar": [
           {
            "marker": {
             "line": {
              "color": "white",
              "width": 0.5
             },
             "pattern": {
              "fillmode": "overlay",
              "size": 10,
              "solidity": 0.2
             }
            },
            "type": "barpolar"
           }
          ],
          "carpet": [
           {
            "aaxis": {
             "endlinecolor": "#2a3f5f",
             "gridcolor": "#C8D4E3",
             "linecolor": "#C8D4E3",
             "minorgridcolor": "#C8D4E3",
             "startlinecolor": "#2a3f5f"
            },
            "baxis": {
             "endlinecolor": "#2a3f5f",
             "gridcolor": "#C8D4E3",
             "linecolor": "#C8D4E3",
             "minorgridcolor": "#C8D4E3",
             "startlinecolor": "#2a3f5f"
            },
            "type": "carpet"
           }
          ],
          "choropleth": [
           {
            "colorbar": {
             "outlinewidth": 0,
             "ticks": ""
            },
            "type": "choropleth"
           }
          ],
          "contour": [
           {
            "colorbar": {
             "outlinewidth": 0,
             "ticks": ""
            },
            "colorscale": [
             [
              0,
              "#0d0887"
             ],
             [
              0.1111111111111111,
              "#46039f"
             ],
             [
              0.2222222222222222,
              "#7201a8"
             ],
             [
              0.3333333333333333,
              "#9c179e"
             ],
             [
              0.4444444444444444,
              "#bd3786"
             ],
             [
              0.5555555555555556,
              "#d8576b"
             ],
             [
              0.6666666666666666,
              "#ed7953"
             ],
             [
              0.7777777777777778,
              "#fb9f3a"
             ],
             [
              0.8888888888888888,
              "#fdca26"
             ],
             [
              1,
              "#f0f921"
             ]
            ],
            "type": "contour"
           }
          ],
          "contourcarpet": [
           {
            "colorbar": {
             "outlinewidth": 0,
             "ticks": ""
            },
            "type": "contourcarpet"
           }
          ],
          "heatmap": [
           {
            "colorbar": {
             "outlinewidth": 0,
             "ticks": ""
            },
            "colorscale": [
             [
              0,
              "#0d0887"
             ],
             [
              0.1111111111111111,
              "#46039f"
             ],
             [
              0.2222222222222222,
              "#7201a8"
             ],
             [
              0.3333333333333333,
              "#9c179e"
             ],
             [
              0.4444444444444444,
              "#bd3786"
             ],
             [
              0.5555555555555556,
              "#d8576b"
             ],
             [
              0.6666666666666666,
              "#ed7953"
             ],
             [
              0.7777777777777778,
              "#fb9f3a"
             ],
             [
              0.8888888888888888,
              "#fdca26"
             ],
             [
              1,
              "#f0f921"
             ]
            ],
            "type": "heatmap"
           }
          ],
          "heatmapgl": [
           {
            "colorbar": {
             "outlinewidth": 0,
             "ticks": ""
            },
            "colorscale": [
             [
              0,
              "#0d0887"
             ],
             [
              0.1111111111111111,
              "#46039f"
             ],
             [
              0.2222222222222222,
              "#7201a8"
             ],
             [
              0.3333333333333333,
              "#9c179e"
             ],
             [
              0.4444444444444444,
              "#bd3786"
             ],
             [
              0.5555555555555556,
              "#d8576b"
             ],
             [
              0.6666666666666666,
              "#ed7953"
             ],
             [
              0.7777777777777778,
              "#fb9f3a"
             ],
             [
              0.8888888888888888,
              "#fdca26"
             ],
             [
              1,
              "#f0f921"
             ]
            ],
            "type": "heatmapgl"
           }
          ],
          "histogram": [
           {
            "marker": {
             "pattern": {
              "fillmode": "overlay",
              "size": 10,
              "solidity": 0.2
             }
            },
            "type": "histogram"
           }
          ],
          "histogram2d": [
           {
            "colorbar": {
             "outlinewidth": 0,
             "ticks": ""
            },
            "colorscale": [
             [
              0,
              "#0d0887"
             ],
             [
              0.1111111111111111,
              "#46039f"
             ],
             [
              0.2222222222222222,
              "#7201a8"
             ],
             [
              0.3333333333333333,
              "#9c179e"
             ],
             [
              0.4444444444444444,
              "#bd3786"
             ],
             [
              0.5555555555555556,
              "#d8576b"
             ],
             [
              0.6666666666666666,
              "#ed7953"
             ],
             [
              0.7777777777777778,
              "#fb9f3a"
             ],
             [
              0.8888888888888888,
              "#fdca26"
             ],
             [
              1,
              "#f0f921"
             ]
            ],
            "type": "histogram2d"
           }
          ],
          "histogram2dcontour": [
           {
            "colorbar": {
             "outlinewidth": 0,
             "ticks": ""
            },
            "colorscale": [
             [
              0,
              "#0d0887"
             ],
             [
              0.1111111111111111,
              "#46039f"
             ],
             [
              0.2222222222222222,
              "#7201a8"
             ],
             [
              0.3333333333333333,
              "#9c179e"
             ],
             [
              0.4444444444444444,
              "#bd3786"
             ],
             [
              0.5555555555555556,
              "#d8576b"
             ],
             [
              0.6666666666666666,
              "#ed7953"
             ],
             [
              0.7777777777777778,
              "#fb9f3a"
             ],
             [
              0.8888888888888888,
              "#fdca26"
             ],
             [
              1,
              "#f0f921"
             ]
            ],
            "type": "histogram2dcontour"
           }
          ],
          "mesh3d": [
           {
            "colorbar": {
             "outlinewidth": 0,
             "ticks": ""
            },
            "type": "mesh3d"
           }
          ],
          "parcoords": [
           {
            "line": {
             "colorbar": {
              "outlinewidth": 0,
              "ticks": ""
             }
            },
            "type": "parcoords"
           }
          ],
          "pie": [
           {
            "automargin": true,
            "type": "pie"
           }
          ],
          "scatter": [
           {
            "fillpattern": {
             "fillmode": "overlay",
             "size": 10,
             "solidity": 0.2
            },
            "type": "scatter"
           }
          ],
          "scatter3d": [
           {
            "line": {
             "colorbar": {
              "outlinewidth": 0,
              "ticks": ""
             }
            },
            "marker": {
             "colorbar": {
              "outlinewidth": 0,
              "ticks": ""
             }
            },
            "type": "scatter3d"
           }
          ],
          "scattercarpet": [
           {
            "marker": {
             "colorbar": {
              "outlinewidth": 0,
              "ticks": ""
             }
            },
            "type": "scattercarpet"
           }
          ],
          "scattergeo": [
           {
            "marker": {
             "colorbar": {
              "outlinewidth": 0,
              "ticks": ""
             }
            },
            "type": "scattergeo"
           }
          ],
          "scattergl": [
           {
            "marker": {
             "colorbar": {
              "outlinewidth": 0,
              "ticks": ""
             }
            },
            "type": "scattergl"
           }
          ],
          "scattermapbox": [
           {
            "marker": {
             "colorbar": {
              "outlinewidth": 0,
              "ticks": ""
             }
            },
            "type": "scattermapbox"
           }
          ],
          "scatterpolar": [
           {
            "marker": {
             "colorbar": {
              "outlinewidth": 0,
              "ticks": ""
             }
            },
            "type": "scatterpolar"
           }
          ],
          "scatterpolargl": [
           {
            "marker": {
             "colorbar": {
              "outlinewidth": 0,
              "ticks": ""
             }
            },
            "type": "scatterpolargl"
           }
          ],
          "scatterternary": [
           {
            "marker": {
             "colorbar": {
              "outlinewidth": 0,
              "ticks": ""
             }
            },
            "type": "scatterternary"
           }
          ],
          "surface": [
           {
            "colorbar": {
             "outlinewidth": 0,
             "ticks": ""
            },
            "colorscale": [
             [
              0,
              "#0d0887"
             ],
             [
              0.1111111111111111,
              "#46039f"
             ],
             [
              0.2222222222222222,
              "#7201a8"
             ],
             [
              0.3333333333333333,
              "#9c179e"
             ],
             [
              0.4444444444444444,
              "#bd3786"
             ],
             [
              0.5555555555555556,
              "#d8576b"
             ],
             [
              0.6666666666666666,
              "#ed7953"
             ],
             [
              0.7777777777777778,
              "#fb9f3a"
             ],
             [
              0.8888888888888888,
              "#fdca26"
             ],
             [
              1,
              "#f0f921"
             ]
            ],
            "type": "surface"
           }
          ],
          "table": [
           {
            "cells": {
             "fill": {
              "color": "#EBF0F8"
             },
             "line": {
              "color": "white"
             }
            },
            "header": {
             "fill": {
              "color": "#C8D4E3"
             },
             "line": {
              "color": "white"
             }
            },
            "type": "table"
           }
          ]
         },
         "layout": {
          "annotationdefaults": {
           "arrowcolor": "#2a3f5f",
           "arrowhead": 0,
           "arrowwidth": 1
          },
          "autotypenumbers": "strict",
          "coloraxis": {
           "colorbar": {
            "outlinewidth": 0,
            "ticks": ""
           }
          },
          "colorscale": {
           "diverging": [
            [
             0,
             "#8e0152"
            ],
            [
             0.1,
             "#c51b7d"
            ],
            [
             0.2,
             "#de77ae"
            ],
            [
             0.3,
             "#f1b6da"
            ],
            [
             0.4,
             "#fde0ef"
            ],
            [
             0.5,
             "#f7f7f7"
            ],
            [
             0.6,
             "#e6f5d0"
            ],
            [
             0.7,
             "#b8e186"
            ],
            [
             0.8,
             "#7fbc41"
            ],
            [
             0.9,
             "#4d9221"
            ],
            [
             1,
             "#276419"
            ]
           ],
           "sequential": [
            [
             0,
             "#0d0887"
            ],
            [
             0.1111111111111111,
             "#46039f"
            ],
            [
             0.2222222222222222,
             "#7201a8"
            ],
            [
             0.3333333333333333,
             "#9c179e"
            ],
            [
             0.4444444444444444,
             "#bd3786"
            ],
            [
             0.5555555555555556,
             "#d8576b"
            ],
            [
             0.6666666666666666,
             "#ed7953"
            ],
            [
             0.7777777777777778,
             "#fb9f3a"
            ],
            [
             0.8888888888888888,
             "#fdca26"
            ],
            [
             1,
             "#f0f921"
            ]
           ],
           "sequentialminus": [
            [
             0,
             "#0d0887"
            ],
            [
             0.1111111111111111,
             "#46039f"
            ],
            [
             0.2222222222222222,
             "#7201a8"
            ],
            [
             0.3333333333333333,
             "#9c179e"
            ],
            [
             0.4444444444444444,
             "#bd3786"
            ],
            [
             0.5555555555555556,
             "#d8576b"
            ],
            [
             0.6666666666666666,
             "#ed7953"
            ],
            [
             0.7777777777777778,
             "#fb9f3a"
            ],
            [
             0.8888888888888888,
             "#fdca26"
            ],
            [
             1,
             "#f0f921"
            ]
           ]
          },
          "colorway": [
           "#636efa",
           "#EF553B",
           "#00cc96",
           "#ab63fa",
           "#FFA15A",
           "#19d3f3",
           "#FF6692",
           "#B6E880",
           "#FF97FF",
           "#FECB52"
          ],
          "font": {
           "color": "#2a3f5f"
          },
          "geo": {
           "bgcolor": "white",
           "lakecolor": "white",
           "landcolor": "white",
           "showlakes": true,
           "showland": true,
           "subunitcolor": "#C8D4E3"
          },
          "hoverlabel": {
           "align": "left"
          },
          "hovermode": "closest",
          "mapbox": {
           "style": "light"
          },
          "paper_bgcolor": "white",
          "plot_bgcolor": "white",
          "polar": {
           "angularaxis": {
            "gridcolor": "#EBF0F8",
            "linecolor": "#EBF0F8",
            "ticks": ""
           },
           "bgcolor": "white",
           "radialaxis": {
            "gridcolor": "#EBF0F8",
            "linecolor": "#EBF0F8",
            "ticks": ""
           }
          },
          "scene": {
           "xaxis": {
            "backgroundcolor": "white",
            "gridcolor": "#DFE8F3",
            "gridwidth": 2,
            "linecolor": "#EBF0F8",
            "showbackground": true,
            "ticks": "",
            "zerolinecolor": "#EBF0F8"
           },
           "yaxis": {
            "backgroundcolor": "white",
            "gridcolor": "#DFE8F3",
            "gridwidth": 2,
            "linecolor": "#EBF0F8",
            "showbackground": true,
            "ticks": "",
            "zerolinecolor": "#EBF0F8"
           },
           "zaxis": {
            "backgroundcolor": "white",
            "gridcolor": "#DFE8F3",
            "gridwidth": 2,
            "linecolor": "#EBF0F8",
            "showbackground": true,
            "ticks": "",
            "zerolinecolor": "#EBF0F8"
           }
          },
          "shapedefaults": {
           "line": {
            "color": "#2a3f5f"
           }
          },
          "ternary": {
           "aaxis": {
            "gridcolor": "#DFE8F3",
            "linecolor": "#A2B1C6",
            "ticks": ""
           },
           "baxis": {
            "gridcolor": "#DFE8F3",
            "linecolor": "#A2B1C6",
            "ticks": ""
           },
           "bgcolor": "white",
           "caxis": {
            "gridcolor": "#DFE8F3",
            "linecolor": "#A2B1C6",
            "ticks": ""
           }
          },
          "title": {
           "x": 0.05
          },
          "xaxis": {
           "automargin": true,
           "gridcolor": "#EBF0F8",
           "linecolor": "#EBF0F8",
           "ticks": "",
           "title": {
            "standoff": 15
           },
           "zerolinecolor": "#EBF0F8",
           "zerolinewidth": 2
          },
          "yaxis": {
           "automargin": true,
           "gridcolor": "#EBF0F8",
           "linecolor": "#EBF0F8",
           "ticks": "",
           "title": {
            "standoff": 15
           },
           "zerolinecolor": "#EBF0F8",
           "zerolinewidth": 2
          }
         }
        },
        "title": {
         "text": "Correct vs Incorrect Predictions by Class"
        },
        "xaxis": {
         "anchor": "y",
         "domain": [
          0,
          1
         ],
         "title": {
          "text": "Class"
         }
        },
        "yaxis": {
         "anchor": "x",
         "domain": [
          0,
          1
         ],
         "title": {
          "text": "Number of Predictions"
         }
        }
       }
      },
      "text/html": [
       "<div>                            <div id=\"60b08700-e553-4766-b6f6-0ad8be3de6ae\" class=\"plotly-graph-div\" style=\"height:525px; width:100%;\"></div>            <script type=\"text/javascript\">                require([\"plotly\"], function(Plotly) {                    window.PLOTLYENV=window.PLOTLYENV || {};                                    if (document.getElementById(\"60b08700-e553-4766-b6f6-0ad8be3de6ae\")) {                    Plotly.newPlot(                        \"60b08700-e553-4766-b6f6-0ad8be3de6ae\",                        [{\"alignmentgroup\":\"True\",\"hovertemplate\":\"Prediction Type=Correct\\u003cbr\\u003eClass=%{x}\\u003cbr\\u003eNumber of Predictions=%{y}\\u003cextra\\u003e\\u003c\\u002fextra\\u003e\",\"legendgroup\":\"Correct\",\"marker\":{\"color\":\"green\",\"pattern\":{\"shape\":\"\"}},\"name\":\"Correct\",\"offsetgroup\":\"Correct\",\"orientation\":\"v\",\"showlegend\":true,\"textposition\":\"auto\",\"x\":[\"destroyed\",\"major-damage\",\"minor-damage\",\"no-damage\"],\"xaxis\":\"x\",\"y\":[5.0,21.0,21.0,16.0],\"yaxis\":\"y\",\"type\":\"bar\"},{\"alignmentgroup\":\"True\",\"hovertemplate\":\"Prediction Type=Incorrect\\u003cbr\\u003eClass=%{x}\\u003cbr\\u003eNumber of Predictions=%{y}\\u003cextra\\u003e\\u003c\\u002fextra\\u003e\",\"legendgroup\":\"Incorrect\",\"marker\":{\"color\":\"red\",\"pattern\":{\"shape\":\"\"}},\"name\":\"Incorrect\",\"offsetgroup\":\"Incorrect\",\"orientation\":\"v\",\"showlegend\":true,\"textposition\":\"auto\",\"x\":[\"destroyed\",\"major-damage\",\"minor-damage\",\"no-damage\"],\"xaxis\":\"x\",\"y\":[2.0,30.0,42.0,79.0],\"yaxis\":\"y\",\"type\":\"bar\"}],                        {\"template\":{\"data\":{\"barpolar\":[{\"marker\":{\"line\":{\"color\":\"white\",\"width\":0.5},\"pattern\":{\"fillmode\":\"overlay\",\"size\":10,\"solidity\":0.2}},\"type\":\"barpolar\"}],\"bar\":[{\"error_x\":{\"color\":\"#2a3f5f\"},\"error_y\":{\"color\":\"#2a3f5f\"},\"marker\":{\"line\":{\"color\":\"white\",\"width\":0.5},\"pattern\":{\"fillmode\":\"overlay\",\"size\":10,\"solidity\":0.2}},\"type\":\"bar\"}],\"carpet\":[{\"aaxis\":{\"endlinecolor\":\"#2a3f5f\",\"gridcolor\":\"#C8D4E3\",\"linecolor\":\"#C8D4E3\",\"minorgridcolor\":\"#C8D4E3\",\"startlinecolor\":\"#2a3f5f\"},\"baxis\":{\"endlinecolor\":\"#2a3f5f\",\"gridcolor\":\"#C8D4E3\",\"linecolor\":\"#C8D4E3\",\"minorgridcolor\":\"#C8D4E3\",\"startlinecolor\":\"#2a3f5f\"},\"type\":\"carpet\"}],\"choropleth\":[{\"colorbar\":{\"outlinewidth\":0,\"ticks\":\"\"},\"type\":\"choropleth\"}],\"contourcarpet\":[{\"colorbar\":{\"outlinewidth\":0,\"ticks\":\"\"},\"type\":\"contourcarpet\"}],\"contour\":[{\"colorbar\":{\"outlinewidth\":0,\"ticks\":\"\"},\"colorscale\":[[0.0,\"#0d0887\"],[0.1111111111111111,\"#46039f\"],[0.2222222222222222,\"#7201a8\"],[0.3333333333333333,\"#9c179e\"],[0.4444444444444444,\"#bd3786\"],[0.5555555555555556,\"#d8576b\"],[0.6666666666666666,\"#ed7953\"],[0.7777777777777778,\"#fb9f3a\"],[0.8888888888888888,\"#fdca26\"],[1.0,\"#f0f921\"]],\"type\":\"contour\"}],\"heatmapgl\":[{\"colorbar\":{\"outlinewidth\":0,\"ticks\":\"\"},\"colorscale\":[[0.0,\"#0d0887\"],[0.1111111111111111,\"#46039f\"],[0.2222222222222222,\"#7201a8\"],[0.3333333333333333,\"#9c179e\"],[0.4444444444444444,\"#bd3786\"],[0.5555555555555556,\"#d8576b\"],[0.6666666666666666,\"#ed7953\"],[0.7777777777777778,\"#fb9f3a\"],[0.8888888888888888,\"#fdca26\"],[1.0,\"#f0f921\"]],\"type\":\"heatmapgl\"}],\"heatmap\":[{\"colorbar\":{\"outlinewidth\":0,\"ticks\":\"\"},\"colorscale\":[[0.0,\"#0d0887\"],[0.1111111111111111,\"#46039f\"],[0.2222222222222222,\"#7201a8\"],[0.3333333333333333,\"#9c179e\"],[0.4444444444444444,\"#bd3786\"],[0.5555555555555556,\"#d8576b\"],[0.6666666666666666,\"#ed7953\"],[0.7777777777777778,\"#fb9f3a\"],[0.8888888888888888,\"#fdca26\"],[1.0,\"#f0f921\"]],\"type\":\"heatmap\"}],\"histogram2dcontour\":[{\"colorbar\":{\"outlinewidth\":0,\"ticks\":\"\"},\"colorscale\":[[0.0,\"#0d0887\"],[0.1111111111111111,\"#46039f\"],[0.2222222222222222,\"#7201a8\"],[0.3333333333333333,\"#9c179e\"],[0.4444444444444444,\"#bd3786\"],[0.5555555555555556,\"#d8576b\"],[0.6666666666666666,\"#ed7953\"],[0.7777777777777778,\"#fb9f3a\"],[0.8888888888888888,\"#fdca26\"],[1.0,\"#f0f921\"]],\"type\":\"histogram2dcontour\"}],\"histogram2d\":[{\"colorbar\":{\"outlinewidth\":0,\"ticks\":\"\"},\"colorscale\":[[0.0,\"#0d0887\"],[0.1111111111111111,\"#46039f\"],[0.2222222222222222,\"#7201a8\"],[0.3333333333333333,\"#9c179e\"],[0.4444444444444444,\"#bd3786\"],[0.5555555555555556,\"#d8576b\"],[0.6666666666666666,\"#ed7953\"],[0.7777777777777778,\"#fb9f3a\"],[0.8888888888888888,\"#fdca26\"],[1.0,\"#f0f921\"]],\"type\":\"histogram2d\"}],\"histogram\":[{\"marker\":{\"pattern\":{\"fillmode\":\"overlay\",\"size\":10,\"solidity\":0.2}},\"type\":\"histogram\"}],\"mesh3d\":[{\"colorbar\":{\"outlinewidth\":0,\"ticks\":\"\"},\"type\":\"mesh3d\"}],\"parcoords\":[{\"line\":{\"colorbar\":{\"outlinewidth\":0,\"ticks\":\"\"}},\"type\":\"parcoords\"}],\"pie\":[{\"automargin\":true,\"type\":\"pie\"}],\"scatter3d\":[{\"line\":{\"colorbar\":{\"outlinewidth\":0,\"ticks\":\"\"}},\"marker\":{\"colorbar\":{\"outlinewidth\":0,\"ticks\":\"\"}},\"type\":\"scatter3d\"}],\"scattercarpet\":[{\"marker\":{\"colorbar\":{\"outlinewidth\":0,\"ticks\":\"\"}},\"type\":\"scattercarpet\"}],\"scattergeo\":[{\"marker\":{\"colorbar\":{\"outlinewidth\":0,\"ticks\":\"\"}},\"type\":\"scattergeo\"}],\"scattergl\":[{\"marker\":{\"colorbar\":{\"outlinewidth\":0,\"ticks\":\"\"}},\"type\":\"scattergl\"}],\"scattermapbox\":[{\"marker\":{\"colorbar\":{\"outlinewidth\":0,\"ticks\":\"\"}},\"type\":\"scattermapbox\"}],\"scatterpolargl\":[{\"marker\":{\"colorbar\":{\"outlinewidth\":0,\"ticks\":\"\"}},\"type\":\"scatterpolargl\"}],\"scatterpolar\":[{\"marker\":{\"colorbar\":{\"outlinewidth\":0,\"ticks\":\"\"}},\"type\":\"scatterpolar\"}],\"scatter\":[{\"fillpattern\":{\"fillmode\":\"overlay\",\"size\":10,\"solidity\":0.2},\"type\":\"scatter\"}],\"scatterternary\":[{\"marker\":{\"colorbar\":{\"outlinewidth\":0,\"ticks\":\"\"}},\"type\":\"scatterternary\"}],\"surface\":[{\"colorbar\":{\"outlinewidth\":0,\"ticks\":\"\"},\"colorscale\":[[0.0,\"#0d0887\"],[0.1111111111111111,\"#46039f\"],[0.2222222222222222,\"#7201a8\"],[0.3333333333333333,\"#9c179e\"],[0.4444444444444444,\"#bd3786\"],[0.5555555555555556,\"#d8576b\"],[0.6666666666666666,\"#ed7953\"],[0.7777777777777778,\"#fb9f3a\"],[0.8888888888888888,\"#fdca26\"],[1.0,\"#f0f921\"]],\"type\":\"surface\"}],\"table\":[{\"cells\":{\"fill\":{\"color\":\"#EBF0F8\"},\"line\":{\"color\":\"white\"}},\"header\":{\"fill\":{\"color\":\"#C8D4E3\"},\"line\":{\"color\":\"white\"}},\"type\":\"table\"}]},\"layout\":{\"annotationdefaults\":{\"arrowcolor\":\"#2a3f5f\",\"arrowhead\":0,\"arrowwidth\":1},\"autotypenumbers\":\"strict\",\"coloraxis\":{\"colorbar\":{\"outlinewidth\":0,\"ticks\":\"\"}},\"colorscale\":{\"diverging\":[[0,\"#8e0152\"],[0.1,\"#c51b7d\"],[0.2,\"#de77ae\"],[0.3,\"#f1b6da\"],[0.4,\"#fde0ef\"],[0.5,\"#f7f7f7\"],[0.6,\"#e6f5d0\"],[0.7,\"#b8e186\"],[0.8,\"#7fbc41\"],[0.9,\"#4d9221\"],[1,\"#276419\"]],\"sequential\":[[0.0,\"#0d0887\"],[0.1111111111111111,\"#46039f\"],[0.2222222222222222,\"#7201a8\"],[0.3333333333333333,\"#9c179e\"],[0.4444444444444444,\"#bd3786\"],[0.5555555555555556,\"#d8576b\"],[0.6666666666666666,\"#ed7953\"],[0.7777777777777778,\"#fb9f3a\"],[0.8888888888888888,\"#fdca26\"],[1.0,\"#f0f921\"]],\"sequentialminus\":[[0.0,\"#0d0887\"],[0.1111111111111111,\"#46039f\"],[0.2222222222222222,\"#7201a8\"],[0.3333333333333333,\"#9c179e\"],[0.4444444444444444,\"#bd3786\"],[0.5555555555555556,\"#d8576b\"],[0.6666666666666666,\"#ed7953\"],[0.7777777777777778,\"#fb9f3a\"],[0.8888888888888888,\"#fdca26\"],[1.0,\"#f0f921\"]]},\"colorway\":[\"#636efa\",\"#EF553B\",\"#00cc96\",\"#ab63fa\",\"#FFA15A\",\"#19d3f3\",\"#FF6692\",\"#B6E880\",\"#FF97FF\",\"#FECB52\"],\"font\":{\"color\":\"#2a3f5f\"},\"geo\":{\"bgcolor\":\"white\",\"lakecolor\":\"white\",\"landcolor\":\"white\",\"showlakes\":true,\"showland\":true,\"subunitcolor\":\"#C8D4E3\"},\"hoverlabel\":{\"align\":\"left\"},\"hovermode\":\"closest\",\"mapbox\":{\"style\":\"light\"},\"paper_bgcolor\":\"white\",\"plot_bgcolor\":\"white\",\"polar\":{\"angularaxis\":{\"gridcolor\":\"#EBF0F8\",\"linecolor\":\"#EBF0F8\",\"ticks\":\"\"},\"bgcolor\":\"white\",\"radialaxis\":{\"gridcolor\":\"#EBF0F8\",\"linecolor\":\"#EBF0F8\",\"ticks\":\"\"}},\"scene\":{\"xaxis\":{\"backgroundcolor\":\"white\",\"gridcolor\":\"#DFE8F3\",\"gridwidth\":2,\"linecolor\":\"#EBF0F8\",\"showbackground\":true,\"ticks\":\"\",\"zerolinecolor\":\"#EBF0F8\"},\"yaxis\":{\"backgroundcolor\":\"white\",\"gridcolor\":\"#DFE8F3\",\"gridwidth\":2,\"linecolor\":\"#EBF0F8\",\"showbackground\":true,\"ticks\":\"\",\"zerolinecolor\":\"#EBF0F8\"},\"zaxis\":{\"backgroundcolor\":\"white\",\"gridcolor\":\"#DFE8F3\",\"gridwidth\":2,\"linecolor\":\"#EBF0F8\",\"showbackground\":true,\"ticks\":\"\",\"zerolinecolor\":\"#EBF0F8\"}},\"shapedefaults\":{\"line\":{\"color\":\"#2a3f5f\"}},\"ternary\":{\"aaxis\":{\"gridcolor\":\"#DFE8F3\",\"linecolor\":\"#A2B1C6\",\"ticks\":\"\"},\"baxis\":{\"gridcolor\":\"#DFE8F3\",\"linecolor\":\"#A2B1C6\",\"ticks\":\"\"},\"bgcolor\":\"white\",\"caxis\":{\"gridcolor\":\"#DFE8F3\",\"linecolor\":\"#A2B1C6\",\"ticks\":\"\"}},\"title\":{\"x\":0.05},\"xaxis\":{\"automargin\":true,\"gridcolor\":\"#EBF0F8\",\"linecolor\":\"#EBF0F8\",\"ticks\":\"\",\"title\":{\"standoff\":15},\"zerolinecolor\":\"#EBF0F8\",\"zerolinewidth\":2},\"yaxis\":{\"automargin\":true,\"gridcolor\":\"#EBF0F8\",\"linecolor\":\"#EBF0F8\",\"ticks\":\"\",\"title\":{\"standoff\":15},\"zerolinecolor\":\"#EBF0F8\",\"zerolinewidth\":2}}},\"xaxis\":{\"anchor\":\"y\",\"domain\":[0.0,1.0],\"title\":{\"text\":\"Class\"}},\"yaxis\":{\"anchor\":\"x\",\"domain\":[0.0,1.0],\"title\":{\"text\":\"Number of Predictions\"}},\"legend\":{\"title\":{\"text\":\"Prediction Type\"},\"tracegroupgap\":0},\"title\":{\"text\":\"Correct vs Incorrect Predictions by Class\"},\"barmode\":\"relative\"},                        {\"responsive\": true}                    ).then(function(){\n",
       "                            \n",
       "var gd = document.getElementById('60b08700-e553-4766-b6f6-0ad8be3de6ae');\n",
       "var x = new MutationObserver(function (mutations, observer) {{\n",
       "        var display = window.getComputedStyle(gd).display;\n",
       "        if (!display || display === 'none') {{\n",
       "            console.log([gd, 'removed!']);\n",
       "            Plotly.purge(gd);\n",
       "            observer.disconnect();\n",
       "        }}\n",
       "}});\n",
       "\n",
       "// Listen for the removal of the full notebook cells\n",
       "var notebookContainer = gd.closest('#notebook-container');\n",
       "if (notebookContainer) {{\n",
       "    x.observe(notebookContainer, {childList: true});\n",
       "}}\n",
       "\n",
       "// Listen for the clearing of the current output cell\n",
       "var outputEl = gd.closest('.output');\n",
       "if (outputEl) {{\n",
       "    x.observe(outputEl, {childList: true});\n",
       "}}\n",
       "\n",
       "                        })                };                });            </script>        </div>"
      ]
     },
     "metadata": {},
     "output_type": "display_data"
    }
   ],
   "source": [
    "import pandas as pd\n",
    "import plotly.express as px\n",
    "\n",
    "# Creating DataFrame using comprehensions\n",
    "plot_df = pd.DataFrame(\n",
    "    {\n",
    "        \"Class\": [k for k in y.keys()],\n",
    "        \"Correct\": [v[\"correct\"] for v in y.values()],\n",
    "        \"Incorrect\": [v[\"total\"] - v[\"correct\"] for v in y.values()],\n",
    "    }\n",
    ")\n",
    "\n",
    "# Plotting the stacked bar chart\n",
    "fig = px.bar(\n",
    "    plot_df,\n",
    "    x=\"Class\",\n",
    "    y=[\"Correct\", \"Incorrect\"],\n",
    "    labels={\"value\": \"Number of Predictions\", \"variable\": \"Prediction Type\"},\n",
    "    color_discrete_map={\"Correct\": \"green\", \"Incorrect\": \"red\"},\n",
    "    title=\"Correct vs Incorrect Predictions by Class\",\n",
    "    template='plotly_white'\n",
    ")\n",
    "\n",
    "fig.show()"
   ]
  },
  {
   "cell_type": "code",
   "execution_count": null,
   "id": "547ed92b",
   "metadata": {},
   "outputs": [],
   "source": []
  }
 ],
 "metadata": {
  "kernelspec": {
   "display_name": "alivio",
   "language": "python",
   "name": "python3"
  },
  "language_info": {
   "codemirror_mode": {
    "name": "ipython",
    "version": 3
   },
   "file_extension": ".py",
   "mimetype": "text/x-python",
   "name": "python",
   "nbconvert_exporter": "python",
   "pygments_lexer": "ipython3",
   "version": "3.10.14"
  }
 },
 "nbformat": 4,
 "nbformat_minor": 5
}
